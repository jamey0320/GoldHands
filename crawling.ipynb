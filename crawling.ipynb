{
 "cells": [
  {
   "cell_type": "code",
   "execution_count": 4,
   "metadata": {},
   "outputs": [],
   "source": [
    "f = open('연예인 리스트 2.txt', 'r')"
   ]
  },
  {
   "cell_type": "code",
   "execution_count": 5,
   "metadata": {
    "scrolled": true
   },
   "outputs": [
    {
     "data": {
      "text/plain": [
       "2391"
      ]
     },
     "execution_count": 5,
     "metadata": {},
     "output_type": "execute_result"
    }
   ],
   "source": [
    "search_list = f.readlines()\n",
    "f.close()\n",
    "for i in range(0,len(search_list)):\n",
    "    search_list[i] = search_list[i].replace('\\n','')\n",
    "len(search_list)"
   ]
  },
  {
   "cell_type": "code",
   "execution_count": 6,
   "metadata": {
    "scrolled": true
   },
   "outputs": [
    {
     "data": {
      "text/plain": [
       "[]"
      ]
     },
     "execution_count": 6,
     "metadata": {},
     "output_type": "execute_result"
    }
   ],
   "source": [
    "div_list = search_list[2500:2550]\n",
    "div_list"
   ]
  },
  {
   "cell_type": "code",
   "execution_count": null,
   "metadata": {
    "scrolled": true
   },
   "outputs": [
    {
     "name": "stdout",
     "output_type": "stream",
     "text": [
      "조태준\n",
      "박시연\n",
      "최진혁\n",
      "조금산\n",
      "지율\n",
      "연규진\n"
     ]
    }
   ],
   "source": [
    "from selenium import webdriver\n",
    "from selenium.webdriver.common.keys import Keys\n",
    "import time\n",
    "import urllib.request\n",
    "from urllib.request import urlretrieve\n",
    "from bs4 import BeautifulSoup\n",
    "from urllib.request import urlopen\n",
    "import requests\n",
    "import shutil\n",
    "import os\n",
    "import base64\n",
    "\n",
    "count = 120481\n",
    "driver = webdriver.Chrome('c:/final/chromedriver.exe')\n",
    "for search_keyword in div_list:\n",
    "    print(search_keyword)\n",
    "    driver.get(\"https://www.google.co.kr/imghp?hl=ko&tab=wi&ogbl\") #구글에 이미지탭 URL 주소\n",
    "    elem = driver.find_element_by_name(\"q\")#검색창 태그찾기\n",
    "    elem.send_keys(search_keyword)#찾은 검색창에 찾고 싶은 키워드 입력\n",
    "    elem.send_keys(Keys.RETURN)#입력받은 키를 누른다\n",
    "    SCROLL_PAUSE_TIME = 1\n",
    "\n",
    "    last_height  = driver.execute_script(\"return document.body.scrollHeight\")\n",
    "\n",
    "    while True:\n",
    "        driver.execute_script(\"window.scrollTo(0, document.body.scrollHeight);\")\n",
    "\n",
    "        time.sleep(SCROLL_PAUSE_TIME)\n",
    "\n",
    "        new_height = driver.execute_script(\"return document.body.scrollHeight\")\n",
    "        if new_height == last_height:\n",
    "            break\n",
    "        last_height = new_height\n",
    "\n",
    "\n",
    "    html = driver.page_source\n",
    "    soup = BeautifulSoup(html)\n",
    "\n",
    "    images = driver.find_elements_by_css_selector(\".rg_i.Q4LuWd\")\n",
    "\n",
    "    for image in images:\n",
    "        try:\n",
    "            image.click()\n",
    "            time.sleep(2)\n",
    "            imgUrl = driver.find_element_by_xpath('/html/body/div[2]/c-wiz/div[3]/div[2]/div[3]/div/div/div[3]/div[2]/c-wiz/div/div[1]/div[1]/div[2]/div[1]/a/img').get_attribute(\"src\")\n",
    "            urllib.request.urlretrieve(imgUrl,\"./imgdata/\"+str(count)+\".png\")\n",
    "            count = count + 1\n",
    "        except:\n",
    "            pass\n",
    "        \n",
    "        \n",
    "driver.close()"
   ]
  }
 ],
 "metadata": {
  "kernelspec": {
   "display_name": "Python 3",
   "language": "python",
   "name": "python3"
  },
  "language_info": {
   "codemirror_mode": {
    "name": "ipython",
    "version": 3
   },
   "file_extension": ".py",
   "mimetype": "text/x-python",
   "name": "python",
   "nbconvert_exporter": "python",
   "pygments_lexer": "ipython3",
   "version": "3.8.8"
  }
 },
 "nbformat": 4,
 "nbformat_minor": 4
}
